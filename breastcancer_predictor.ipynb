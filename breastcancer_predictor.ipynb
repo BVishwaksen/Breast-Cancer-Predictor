{
 "cells": [
  {
   "cell_type": "code",
   "execution_count": 1,
   "metadata": {},
   "outputs": [],
   "source": [
    "#importing the modules and loading the model\n",
    "import pickle\n",
    "filename = 'breastcancer_model.sav'\n",
    "breast_model = pickle.load(open(filename,'rb'))"
   ]
  },
  {
   "cell_type": "code",
   "execution_count": 2,
   "metadata": {},
   "outputs": [],
   "source": [
    "#the attributes from test results\n",
    "report = [[1.641e+01,3.397e+01,2.024e+02,3.210e+03,3.265e-01,1.776e-01,2.001e-01,\n",
    " 3.471e-01,3.369e-01,8.161e-02,2.195e+00,3.082e-01,1.789e+00,1.892e+02,\n",
    " 9.399e-03,2.904e-03,6.373e-03,1.587e-02,3.003e-02,6.193e-03,2.538e+01,\n",
    " 3.783e+01,2.846e+02,2.019e+03,1.622e-01,6.656e-01,7.119e-01,2.654e-01,\n",
    " 4.601e-01,0.989e-01]]"
   ]
  },
  {
   "cell_type": "code",
   "execution_count": 3,
   "metadata": {},
   "outputs": [],
   "source": [
    "#predicting the result\n",
    "breast_prediction = breast_model.predict(report)"
   ]
  },
  {
   "cell_type": "code",
   "execution_count": 4,
   "metadata": {},
   "outputs": [
    {
     "name": "stdout",
     "output_type": "stream",
     "text": [
      "The possibility of breast cancer is low\n"
     ]
    }
   ],
   "source": [
    "#displaying the result\n",
    "if breast_prediction[0]==0:\n",
    "    print(\"The possibility of breast cancer is low\")\n",
    "else:\n",
    "    print(\"The possibility of breast cancer is high\")"
   ]
  }
 ],
 "metadata": {
  "kernelspec": {
   "display_name": "Python 3",
   "language": "python",
   "name": "python3"
  },
  "language_info": {
   "codemirror_mode": {
    "name": "ipython",
    "version": 3
   },
   "file_extension": ".py",
   "mimetype": "text/x-python",
   "name": "python",
   "nbconvert_exporter": "python",
   "pygments_lexer": "ipython3",
   "version": "3.5.0"
  }
 },
 "nbformat": 4,
 "nbformat_minor": 2
}
